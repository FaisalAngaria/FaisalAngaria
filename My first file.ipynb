{
  "nbformat": 4,
  "nbformat_minor": 0,
  "metadata": {
    "colab": {
      "provenance": [],
      "authorship_tag": "ABX9TyOZ0ImiyGaNnPz15BdwMFfE",
      "include_colab_link": true
    },
    "kernelspec": {
      "name": "python3",
      "display_name": "Python 3"
    },
    "language_info": {
      "name": "python"
    }
  },
  "cells": [
    {
      "cell_type": "markdown",
      "metadata": {
        "id": "view-in-github",
        "colab_type": "text"
      },
      "source": [
        "<a href=\"https://colab.research.google.com/github/FaisalAngaria/FaisalAngaria/blob/main/test.ipynb\" target=\"_parent\"><img src=\"https://colab.research.google.com/assets/colab-badge.svg\" alt=\"Open In Colab\"/></a>"
      ]
    },
    {
      "cell_type": "code",
      "execution_count": null,
      "metadata": {
        "id": "M0I6v5ZJRpwf",
        "colab": {
          "base_uri": "https://localhost:8080/"
        },
        "outputId": "815f16de-a5d2-45ca-c889-992eaf8705bf"
      },
      "outputs": [
        {
          "output_type": "stream",
          "name": "stdout",
          "text": [
            "1234 \n",
            " 1234 \n",
            " 1234 \n",
            " 1234 \n",
            " 1234 \n",
            " 1234 \n",
            " 1234 \n",
            " 1234 \n",
            " 1234 \n",
            " 1234 \n",
            " \n"
          ]
        }
      ],
      "source": [
        "print (\"1234 \\n \"* 10 )"
      ]
    },
    {
      "cell_type": "code",
      "source": [
        "name = \"Jameel\"\n",
        "age = 25\n",
        "city = \"karachi\"\n",
        "\n",
        "print (f\"my name is {name} my age is {age} i live in {city}\")"
      ],
      "metadata": {
        "colab": {
          "base_uri": "https://localhost:8080/"
        },
        "id": "vEepPvike2or",
        "outputId": "a4619554-4ae9-44dc-f500-cfdf27b9b80b"
      },
      "execution_count": null,
      "outputs": [
        {
          "output_type": "stream",
          "name": "stdout",
          "text": [
            "my name is Jameel my age is 25 i live in karachi\n"
          ]
        }
      ]
    },
    {
      "cell_type": "code",
      "source": [
        "a = int(input (\"Enter number\"))\n",
        "b =int(input (\"Enter number\"))\n",
        "x = a + b\n",
        "print (\"sum of value is\" , x)"
      ],
      "metadata": {
        "colab": {
          "base_uri": "https://localhost:8080/"
        },
        "id": "WXjPMsZdgfax",
        "outputId": "ba20b82b-1d3c-4d4e-f2f7-00f7dc5a8de2"
      },
      "execution_count": 3,
      "outputs": [
        {
          "output_type": "stream",
          "name": "stdout",
          "text": [
            "Enter number2\n",
            "Enter number7\n",
            "sum of value is 9\n"
          ]
        }
      ]
    },
    {
      "cell_type": "code",
      "source": [],
      "metadata": {
        "id": "RUSI9D6ShrmB"
      },
      "execution_count": null,
      "outputs": []
    }
  ]
}
